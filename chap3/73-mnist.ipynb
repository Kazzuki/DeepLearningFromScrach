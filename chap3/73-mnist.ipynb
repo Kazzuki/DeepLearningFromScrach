{
 "cells": [
  {
   "cell_type": "code",
   "execution_count": 68,
   "metadata": {},
   "outputs": [],
   "source": [
    "import sys, os\n",
    "from pathlib import Path\n",
    "# signalfuncなどのある親ディレクトリのパスを取得,これはJupyter系特有の書き方\n",
    "current_dir = os.path.join(Path().resolve())\n",
    "# 親ディレクトリ\n",
    "PARENT_DIR = os.path.join(Path().cwd().parent.resolve())\n",
    "module_dir = os.path.join(PARENT_DIR +\"/dataset\")"
   ]
  },
  {
   "cell_type": "code",
   "execution_count": 69,
   "metadata": {},
   "outputs": [
    {
     "name": "stdout",
     "output_type": "stream",
     "text": [
      "/Users/kazuki/Documents/0-repository/python/DeepLearnig/chap3\n"
     ]
    }
   ],
   "source": [
    "print(current_dir)"
   ]
  },
  {
   "cell_type": "code",
   "execution_count": 70,
   "metadata": {},
   "outputs": [
    {
     "data": {
      "text/plain": [
       "'/Users/kazuki/Documents/0-repository/python/DeepLearnig'"
      ]
     },
     "execution_count": 70,
     "metadata": {},
     "output_type": "execute_result"
    }
   ],
   "source": [
    "PARENT_DIR"
   ]
  },
  {
   "cell_type": "code",
   "execution_count": 71,
   "metadata": {},
   "outputs": [
    {
     "data": {
      "text/plain": [
       "'/Users/kazuki/Documents/0-repository/python/DeepLearnig/dataset'"
      ]
     },
     "execution_count": 71,
     "metadata": {},
     "output_type": "execute_result"
    }
   ],
   "source": [
    "module_dir"
   ]
  },
  {
   "cell_type": "code",
   "execution_count": 73,
   "metadata": {},
   "outputs": [
    {
     "name": "stdout",
     "output_type": "stream",
     "text": [
      "None\n"
     ]
    }
   ],
   "source": [
    "# sys.path.append(os.pardir)\n",
    "print(sys.path.append(module_dir))"
   ]
  },
  {
   "cell_type": "code",
   "execution_count": 76,
   "metadata": {},
   "outputs": [
    {
     "ename": "ImportError",
     "evalue": "cannot import name 'load_mnist' from 'dataset.mnist' (../dataset/mnist.py)",
     "output_type": "error",
     "traceback": [
      "\u001b[0;31m---------------------------------------------------------------------------\u001b[0m",
      "\u001b[0;31mImportError\u001b[0m                               Traceback (most recent call last)",
      "\u001b[0;32m<ipython-input-76-40ce564a4e37>\u001b[0m in \u001b[0;36m<module>\u001b[0;34m\u001b[0m\n\u001b[0;32m----> 1\u001b[0;31m \u001b[0;32mfrom\u001b[0m \u001b[0mdataset\u001b[0m\u001b[0;34m.\u001b[0m\u001b[0mmnist\u001b[0m \u001b[0;32mimport\u001b[0m \u001b[0mload_mnist\u001b[0m\u001b[0;34m\u001b[0m\u001b[0;34m\u001b[0m\u001b[0m\n\u001b[0m",
      "\u001b[0;31mImportError\u001b[0m: cannot import name 'load_mnist' from 'dataset.mnist' (../dataset/mnist.py)"
     ]
    }
   ],
   "source": [
    "from dataset.mnist import load_mnist"
   ]
  },
  {
   "cell_type": "code",
   "execution_count": 75,
   "metadata": {},
   "outputs": [
    {
     "name": "stdout",
     "output_type": "stream",
     "text": [
      "['/Users/kazuki/Documents/0-repository/python/DeepLearnig/chap3',\n",
      " '/Users/kazuki/opt/anaconda3/lib/python37.zip',\n",
      " '/Users/kazuki/opt/anaconda3/lib/python3.7',\n",
      " '/Users/kazuki/opt/anaconda3/lib/python3.7/lib-dynload',\n",
      " '',\n",
      " '/Users/kazuki/opt/anaconda3/lib/python3.7/site-packages',\n",
      " '/Users/kazuki/opt/anaconda3/lib/python3.7/site-packages/aeosa',\n",
      " '/Users/kazuki/opt/anaconda3/lib/python3.7/site-packages/IPython/extensions',\n",
      " '/Users/kazuki/.ipython',\n",
      " '..',\n",
      " '..',\n",
      " '..',\n",
      " '..',\n",
      " '..',\n",
      " '..',\n",
      " '..',\n",
      " '..',\n",
      " '..',\n",
      " '/Users/kazuki/Documents/0-repository/python/DeepLearnig/chap3/../dataset',\n",
      " '/Users/kazuki/Documents/0-repository/python/DeepLearnig/chap3/../dataset',\n",
      " '/Users/kazuki/Documents/0-repository/python/DeepLearnig/dataset']\n"
     ]
    }
   ],
   "source": [
    "import pprint\n",
    "pprint.pprint(sys.path)"
   ]
  },
  {
   "cell_type": "code",
   "execution_count": null,
   "metadata": {},
   "outputs": [],
   "source": []
  },
  {
   "cell_type": "code",
   "execution_count": null,
   "metadata": {},
   "outputs": [],
   "source": []
  }
 ],
 "metadata": {
  "kernelspec": {
   "display_name": "Python 3",
   "language": "python",
   "name": "python3"
  },
  "language_info": {
   "codemirror_mode": {
    "name": "ipython",
    "version": 3
   },
   "file_extension": ".py",
   "mimetype": "text/x-python",
   "name": "python",
   "nbconvert_exporter": "python",
   "pygments_lexer": "ipython3",
   "version": "3.7.6"
  }
 },
 "nbformat": 4,
 "nbformat_minor": 4
}
